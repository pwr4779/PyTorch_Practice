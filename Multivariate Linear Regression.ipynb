{
 "cells": [
  {
   "cell_type": "markdown",
   "metadata": {},
   "source": [
    "# Multivariate Linear Regression"
   ]
  },
  {
   "cell_type": "code",
   "execution_count": 2,
   "metadata": {},
   "outputs": [],
   "source": [
    "import torch\n",
    "# For reproducibility\n",
    "torch.manual_seed(1)\n",
    "\n",
    "#Data definition\n",
    "x_train = torch.FloatTensor([[73, 80, 75],\n",
    "                             [93, 88, 93],\n",
    "                             [89, 91, 90],\n",
    "                             [96, 98, 100],\n",
    "                             [73, 66, 70]])\n",
    "y_train = torch.FloatTensor([[152], [185], [180], [196], [142]])"
   ]
  },
  {
   "cell_type": "code",
   "execution_count": 3,
   "metadata": {},
   "outputs": [],
   "source": [
    "# W = torch.randn((3,1), requires_grad=True) #requires_grad 학습할 것이라고 명시 초기화\n",
    "# b = torch.randn(1, requires_grad=True)\n",
    "# hypothesis = x_train*W +b\n",
    "\n",
    "import torch.nn as nn\n",
    "\n",
    "class MultivariateLinearRegressionModel(nn.Module):\n",
    "    def __init__(self):\n",
    "        super().__init__()\n",
    "        self.linear = nn.Linear(3,1)\n",
    "        \n",
    "    def forward(self, x):\n",
    "        return self.linear(x)\n",
    "model = MultivariateLinearRegressionModel()"
   ]
  },
  {
   "cell_type": "code",
   "execution_count": 4,
   "metadata": {},
   "outputs": [
    {
     "name": "stdout",
     "output_type": "stream",
     "text": [
      "Epoch    1/20 Cost: 31667.599609\n",
      "Epoch    2/20 Cost: 9926.265625\n",
      "Epoch    3/20 Cost: 3111.513916\n",
      "Epoch    4/20 Cost: 975.451355\n",
      "Epoch    5/20 Cost: 305.908539\n",
      "Epoch    6/20 Cost: 96.042496\n",
      "Epoch    7/20 Cost: 30.260748\n",
      "Epoch    8/20 Cost: 9.641701\n",
      "Epoch    9/20 Cost: 3.178671\n",
      "Epoch   10/20 Cost: 1.152871\n",
      "Epoch   11/20 Cost: 0.517863\n",
      "Epoch   12/20 Cost: 0.318801\n",
      "Epoch   13/20 Cost: 0.256388\n",
      "Epoch   14/20 Cost: 0.236821\n",
      "Epoch   15/20 Cost: 0.230660\n",
      "Epoch   16/20 Cost: 0.228719\n",
      "Epoch   17/20 Cost: 0.228095\n",
      "Epoch   18/20 Cost: 0.227880\n",
      "Epoch   19/20 Cost: 0.227799\n",
      "Epoch   20/20 Cost: 0.227762\n"
     ]
    }
   ],
   "source": [
    "import torch.nn.functional as F\n",
    "nb_epochs = 20\n",
    "optimizer = torch.optim.SGD(model.parameters(), lr=1e-5)\n",
    "for epoch in range(1, nb_epochs + 1):\n",
    "    prediction = model(x_train)\n",
    "#     cost = torch.mean((hypothesis - y_train) ** 2)\n",
    "    cost = F.mse_loss(prediction, y_train)\n",
    "    print('Epoch {:4d}/{} Cost: {:.6f}'.format(epoch, nb_epochs, cost.item()))\n",
    "    optimizer.zero_grad() #gradient를 0으로 초기화\n",
    "    cost.backward() #gradient 계산\n",
    "    optimizer.step() #gradient descent"
   ]
  },
  {
   "cell_type": "code",
   "execution_count": 5,
   "metadata": {},
   "outputs": [
    {
     "name": "stdout",
     "output_type": "stream",
     "text": [
      "tensor([[180.4786]], grad_fn=<AddmmBackward>)\n"
     ]
    }
   ],
   "source": [
    "hypothesis = model(torch.FloatTensor([[89,91,90]]))\n",
    "print(hypothesis)"
   ]
  },
  {
   "cell_type": "code",
   "execution_count": null,
   "metadata": {},
   "outputs": [],
   "source": []
  }
 ],
 "metadata": {
  "kernelspec": {
   "display_name": "Python 3",
   "language": "python",
   "name": "python3"
  },
  "language_info": {
   "codemirror_mode": {
    "name": "ipython",
    "version": 3
   },
   "file_extension": ".py",
   "mimetype": "text/x-python",
   "name": "python",
   "nbconvert_exporter": "python",
   "pygments_lexer": "ipython3",
   "version": "3.7.9"
  }
 },
 "nbformat": 4,
 "nbformat_minor": 4
}
